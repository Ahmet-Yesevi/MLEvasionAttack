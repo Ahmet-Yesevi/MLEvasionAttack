{
 "cells": [
  {
   "cell_type": "code",
   "execution_count": 1,
   "id": "def8ada1-2dc4-4934-842a-e1f9a97a4fbd",
   "metadata": {},
   "outputs": [],
   "source": [
    "import pandas as pd\n",
    "import numpy as np\n",
    "from sklearn.preprocessing import MinMaxScaler\n",
    "import matplotlib.pyplot as plt\n",
    "from sklearn.model_selection import train_test_split\n",
    "import os"
   ]
  },
  {
   "cell_type": "code",
   "execution_count": 2,
   "id": "0fc4ce0a",
   "metadata": {},
   "outputs": [],
   "source": [
    "# ONLY USE CPU FOR TRAINING\n",
    "# THIS IS A TEMPORARY FIX, SINCE GPU TRAINING IS GIVING ERRORS\n",
    "# RUN THIS BEFORE IMPORTING TENSORFLOW\n",
    "os.environ[\"CUDA_VISIBLE_DEVICES\"] = \"-1\""
   ]
  },
  {
   "cell_type": "code",
   "execution_count": 3,
   "id": "a26fbc3f-6a13-44a5-9fb5-385f20bf99c5",
   "metadata": {},
   "outputs": [
    {
     "name": "stderr",
     "output_type": "stream",
     "text": [
      "2025-05-28 09:46:16.885665: E external/local_xla/xla/stream_executor/cuda/cuda_fft.cc:467] Unable to register cuFFT factory: Attempting to register factory for plugin cuFFT when one has already been registered\n",
      "WARNING: All log messages before absl::InitializeLog() is called are written to STDERR\n",
      "E0000 00:00:1748414776.900124   17635 cuda_dnn.cc:8579] Unable to register cuDNN factory: Attempting to register factory for plugin cuDNN when one has already been registered\n",
      "E0000 00:00:1748414776.904080   17635 cuda_blas.cc:1407] Unable to register cuBLAS factory: Attempting to register factory for plugin cuBLAS when one has already been registered\n",
      "W0000 00:00:1748414776.913884   17635 computation_placer.cc:177] computation placer already registered. Please check linkage and avoid linking the same target more than once.\n",
      "W0000 00:00:1748414776.913899   17635 computation_placer.cc:177] computation placer already registered. Please check linkage and avoid linking the same target more than once.\n",
      "W0000 00:00:1748414776.913900   17635 computation_placer.cc:177] computation placer already registered. Please check linkage and avoid linking the same target more than once.\n",
      "W0000 00:00:1748414776.913901   17635 computation_placer.cc:177] computation placer already registered. Please check linkage and avoid linking the same target more than once.\n",
      "2025-05-28 09:46:16.917161: I tensorflow/core/platform/cpu_feature_guard.cc:210] This TensorFlow binary is optimized to use available CPU instructions in performance-critical operations.\n",
      "To enable the following instructions: AVX2 FMA, in other operations, rebuild TensorFlow with the appropriate compiler flags.\n"
     ]
    },
    {
     "name": "stdout",
     "output_type": "stream",
     "text": [
      "2.19.0\n"
     ]
    }
   ],
   "source": [
    "import tensorflow as tf\n",
    "print(tf.__version__)"
   ]
  },
  {
   "cell_type": "code",
   "execution_count": 4,
   "id": "f2d2154d-b8da-46d7-93ee-74796f1628a5",
   "metadata": {},
   "outputs": [
    {
     "data": {
      "text/html": [
       "<div>\n",
       "<style scoped>\n",
       "    .dataframe tbody tr th:only-of-type {\n",
       "        vertical-align: middle;\n",
       "    }\n",
       "\n",
       "    .dataframe tbody tr th {\n",
       "        vertical-align: top;\n",
       "    }\n",
       "\n",
       "    .dataframe thead th {\n",
       "        text-align: right;\n",
       "    }\n",
       "</style>\n",
       "<table border=\"1\" class=\"dataframe\">\n",
       "  <thead>\n",
       "    <tr style=\"text-align: right;\">\n",
       "      <th></th>\n",
       "      <th>unit</th>\n",
       "      <th>time</th>\n",
       "      <th>op1</th>\n",
       "      <th>op2</th>\n",
       "      <th>op3</th>\n",
       "      <th>sensor1</th>\n",
       "      <th>sensor2</th>\n",
       "      <th>sensor3</th>\n",
       "      <th>sensor4</th>\n",
       "      <th>sensor5</th>\n",
       "      <th>...</th>\n",
       "      <th>sensor13</th>\n",
       "      <th>sensor14</th>\n",
       "      <th>sensor15</th>\n",
       "      <th>sensor16</th>\n",
       "      <th>sensor17</th>\n",
       "      <th>sensor18</th>\n",
       "      <th>sensor19</th>\n",
       "      <th>sensor20</th>\n",
       "      <th>sensor21</th>\n",
       "      <th>RUL</th>\n",
       "    </tr>\n",
       "  </thead>\n",
       "  <tbody>\n",
       "    <tr>\n",
       "      <th>0</th>\n",
       "      <td>1</td>\n",
       "      <td>1</td>\n",
       "      <td>-0.0007</td>\n",
       "      <td>-0.0004</td>\n",
       "      <td>100.0</td>\n",
       "      <td>518.67</td>\n",
       "      <td>0.183735</td>\n",
       "      <td>0.406802</td>\n",
       "      <td>0.309757</td>\n",
       "      <td>14.62</td>\n",
       "      <td>...</td>\n",
       "      <td>0.205882</td>\n",
       "      <td>8138.62</td>\n",
       "      <td>0.363986</td>\n",
       "      <td>0.03</td>\n",
       "      <td>0.333333</td>\n",
       "      <td>2388</td>\n",
       "      <td>100.0</td>\n",
       "      <td>0.713178</td>\n",
       "      <td>0.724662</td>\n",
       "      <td>191</td>\n",
       "    </tr>\n",
       "    <tr>\n",
       "      <th>1</th>\n",
       "      <td>1</td>\n",
       "      <td>2</td>\n",
       "      <td>0.0019</td>\n",
       "      <td>-0.0003</td>\n",
       "      <td>100.0</td>\n",
       "      <td>518.67</td>\n",
       "      <td>0.283133</td>\n",
       "      <td>0.453019</td>\n",
       "      <td>0.352633</td>\n",
       "      <td>14.62</td>\n",
       "      <td>...</td>\n",
       "      <td>0.279412</td>\n",
       "      <td>8131.49</td>\n",
       "      <td>0.411312</td>\n",
       "      <td>0.03</td>\n",
       "      <td>0.333333</td>\n",
       "      <td>2388</td>\n",
       "      <td>100.0</td>\n",
       "      <td>0.666667</td>\n",
       "      <td>0.731014</td>\n",
       "      <td>190</td>\n",
       "    </tr>\n",
       "    <tr>\n",
       "      <th>2</th>\n",
       "      <td>1</td>\n",
       "      <td>3</td>\n",
       "      <td>-0.0043</td>\n",
       "      <td>0.0003</td>\n",
       "      <td>100.0</td>\n",
       "      <td>518.67</td>\n",
       "      <td>0.343373</td>\n",
       "      <td>0.369523</td>\n",
       "      <td>0.370527</td>\n",
       "      <td>14.62</td>\n",
       "      <td>...</td>\n",
       "      <td>0.220588</td>\n",
       "      <td>8133.23</td>\n",
       "      <td>0.357445</td>\n",
       "      <td>0.03</td>\n",
       "      <td>0.166667</td>\n",
       "      <td>2388</td>\n",
       "      <td>100.0</td>\n",
       "      <td>0.627907</td>\n",
       "      <td>0.621375</td>\n",
       "      <td>189</td>\n",
       "    </tr>\n",
       "    <tr>\n",
       "      <th>3</th>\n",
       "      <td>1</td>\n",
       "      <td>4</td>\n",
       "      <td>0.0007</td>\n",
       "      <td>0.0000</td>\n",
       "      <td>100.0</td>\n",
       "      <td>518.67</td>\n",
       "      <td>0.343373</td>\n",
       "      <td>0.256159</td>\n",
       "      <td>0.331195</td>\n",
       "      <td>14.62</td>\n",
       "      <td>...</td>\n",
       "      <td>0.294118</td>\n",
       "      <td>8133.83</td>\n",
       "      <td>0.166603</td>\n",
       "      <td>0.03</td>\n",
       "      <td>0.333333</td>\n",
       "      <td>2388</td>\n",
       "      <td>100.0</td>\n",
       "      <td>0.573643</td>\n",
       "      <td>0.662386</td>\n",
       "      <td>188</td>\n",
       "    </tr>\n",
       "    <tr>\n",
       "      <th>4</th>\n",
       "      <td>1</td>\n",
       "      <td>5</td>\n",
       "      <td>-0.0019</td>\n",
       "      <td>-0.0002</td>\n",
       "      <td>100.0</td>\n",
       "      <td>518.67</td>\n",
       "      <td>0.349398</td>\n",
       "      <td>0.257467</td>\n",
       "      <td>0.404625</td>\n",
       "      <td>14.62</td>\n",
       "      <td>...</td>\n",
       "      <td>0.235294</td>\n",
       "      <td>8133.80</td>\n",
       "      <td>0.402078</td>\n",
       "      <td>0.03</td>\n",
       "      <td>0.416667</td>\n",
       "      <td>2388</td>\n",
       "      <td>100.0</td>\n",
       "      <td>0.589147</td>\n",
       "      <td>0.704502</td>\n",
       "      <td>187</td>\n",
       "    </tr>\n",
       "  </tbody>\n",
       "</table>\n",
       "<p>5 rows × 27 columns</p>\n",
       "</div>"
      ],
      "text/plain": [
       "   unit  time     op1     op2    op3  sensor1   sensor2   sensor3   sensor4  \\\n",
       "0     1     1 -0.0007 -0.0004  100.0   518.67  0.183735  0.406802  0.309757   \n",
       "1     1     2  0.0019 -0.0003  100.0   518.67  0.283133  0.453019  0.352633   \n",
       "2     1     3 -0.0043  0.0003  100.0   518.67  0.343373  0.369523  0.370527   \n",
       "3     1     4  0.0007  0.0000  100.0   518.67  0.343373  0.256159  0.331195   \n",
       "4     1     5 -0.0019 -0.0002  100.0   518.67  0.349398  0.257467  0.404625   \n",
       "\n",
       "   sensor5  ...  sensor13  sensor14  sensor15  sensor16  sensor17  sensor18  \\\n",
       "0    14.62  ...  0.205882   8138.62  0.363986      0.03  0.333333      2388   \n",
       "1    14.62  ...  0.279412   8131.49  0.411312      0.03  0.333333      2388   \n",
       "2    14.62  ...  0.220588   8133.23  0.357445      0.03  0.166667      2388   \n",
       "3    14.62  ...  0.294118   8133.83  0.166603      0.03  0.333333      2388   \n",
       "4    14.62  ...  0.235294   8133.80  0.402078      0.03  0.416667      2388   \n",
       "\n",
       "   sensor19  sensor20  sensor21  RUL  \n",
       "0     100.0  0.713178  0.724662  191  \n",
       "1     100.0  0.666667  0.731014  190  \n",
       "2     100.0  0.627907  0.621375  189  \n",
       "3     100.0  0.573643  0.662386  188  \n",
       "4     100.0  0.589147  0.704502  187  \n",
       "\n",
       "[5 rows x 27 columns]"
      ]
     },
     "execution_count": 4,
     "metadata": {},
     "output_type": "execute_result"
    }
   ],
   "source": [
    "\n",
    "\n",
    "# FD001 verisini oku\n",
    "train = pd.read_csv(os.path.join(\"CMaps\", \"train_FD001.txt\"), sep=\" \", header=None)\n",
    "train.drop(columns=[26, 27], inplace=True)  # Boş sütunları at\n",
    "train.columns = ['unit', 'time'] + [f'op{i}' for i in range(1,4)] + [f'sensor{i}' for i in range(1,22)]\n",
    "\n",
    "# Her motor için RUL hesapla\n",
    "rul = train.groupby('unit')['time'].max().reset_index()\n",
    "rul.columns = ['unit', 'max_time']\n",
    "train = train.merge(rul, on='unit')\n",
    "train['RUL'] = train['max_time'] - train['time']\n",
    "train.drop('max_time', axis=1, inplace=True)\n",
    "\n",
    "# Sensör seçimi (örnek)\n",
    "sensor_cols = ['sensor2', 'sensor3', 'sensor4', 'sensor7', 'sensor8', 'sensor9', 'sensor11', 'sensor12', 'sensor13', 'sensor15', 'sensor17', 'sensor20', 'sensor21']\n",
    "\n",
    "# Normalizasyon\n",
    "scaler = MinMaxScaler()\n",
    "train[sensor_cols] = scaler.fit_transform(train[sensor_cols])\n",
    "\n",
    "train.head()\n"
   ]
  },
  {
   "cell_type": "code",
   "execution_count": 5,
   "id": "b7b55779-69b8-43dc-b277-0af338918aab",
   "metadata": {},
   "outputs": [
    {
     "name": "stdout",
     "output_type": "stream",
     "text": [
      "   unit  time     op1     op2    op3  sensor1   sensor2   sensor3   sensor4  \\\n",
      "0     1     1 -0.0007 -0.0004  100.0   518.67  0.183735  0.406802  0.309757   \n",
      "1     1     2  0.0019 -0.0003  100.0   518.67  0.283133  0.453019  0.352633   \n",
      "2     1     3 -0.0043  0.0003  100.0   518.67  0.343373  0.369523  0.370527   \n",
      "3     1     4  0.0007  0.0000  100.0   518.67  0.343373  0.256159  0.331195   \n",
      "4     1     5 -0.0019 -0.0002  100.0   518.67  0.349398  0.257467  0.404625   \n",
      "\n",
      "   sensor5  ...  sensor13  sensor14  sensor15  sensor16  sensor17  sensor18  \\\n",
      "0    14.62  ...  0.205882   8138.62  0.363986      0.03  0.333333      2388   \n",
      "1    14.62  ...  0.279412   8131.49  0.411312      0.03  0.333333      2388   \n",
      "2    14.62  ...  0.220588   8133.23  0.357445      0.03  0.166667      2388   \n",
      "3    14.62  ...  0.294118   8133.83  0.166603      0.03  0.333333      2388   \n",
      "4    14.62  ...  0.235294   8133.80  0.402078      0.03  0.416667      2388   \n",
      "\n",
      "   sensor19  sensor20  sensor21  RUL  \n",
      "0     100.0  0.713178  0.724662  191  \n",
      "1     100.0  0.666667  0.731014  190  \n",
      "2     100.0  0.627907  0.621375  189  \n",
      "3     100.0  0.573643  0.662386  188  \n",
      "4     100.0  0.589147  0.704502  187  \n",
      "\n",
      "[5 rows x 27 columns]\n"
     ]
    }
   ],
   "source": [
    "\n",
    "file_path = os.path.join(\"CMaps\", \"train_FD001.txt\")  # Kendi dizinine göre güncelle\n",
    "\n",
    "columns = ['unit', 'time'] + [f'op{i}' for i in range(1, 4)] + [f'sensor{i}' for i in range(1, 22)]\n",
    "\n",
    "\n",
    "df = pd.read_csv(file_path, sep=r'\\s+', header=None, names=columns)\n",
    "\n",
    "\n",
    "# Max time for each motor\n",
    "rul_max = df.groupby('unit')['time'].max().reset_index()\n",
    "rul_max.columns = ['unit', 'max_time']\n",
    "df = df.merge(rul_max, on='unit')\n",
    "df['RUL'] = df['max_time'] - df['time']\n",
    "df.drop(columns='max_time', inplace=True)\n",
    "\n",
    "# Kullanılacak sensörleri seç (örnek olarak informative sensörler)\n",
    "sensor_cols = ['sensor2', 'sensor3', 'sensor4', 'sensor7', 'sensor8',\n",
    "               'sensor9', 'sensor11', 'sensor12', 'sensor13', 'sensor15',\n",
    "               'sensor17', 'sensor20', 'sensor21']\n",
    "\n",
    "# Normalize\n",
    "scaler = MinMaxScaler()\n",
    "df[sensor_cols] = scaler.fit_transform(df[sensor_cols])\n",
    "\n",
    "\n",
    "print(df.head())"
   ]
  },
  {
   "cell_type": "code",
   "execution_count": 6,
   "id": "43ecfeb7-4b66-4bd1-ae06-9ee565d668b1",
   "metadata": {},
   "outputs": [
    {
     "name": "stdout",
     "output_type": "stream",
     "text": [
      "X shape: (17731, 30, 13), y shape: (17731,)\n"
     ]
    }
   ],
   "source": [
    "sequence_length = 30\n",
    "features = df[sensor_cols + ['unit', 'RUL']]\n",
    "\n",
    "X, y = [], []\n",
    "\n",
    "# Produce windows\n",
    "for unit in features['unit'].unique():\n",
    "    unit_df = features[features['unit'] == unit]\n",
    "    unit_data = unit_df[sensor_cols].values\n",
    "    unit_rul = unit_df['RUL'].values\n",
    "    \n",
    "    for i in range(len(unit_data) - sequence_length + 1):\n",
    "        X.append(unit_data[i:i+sequence_length])\n",
    "        y.append(unit_rul[i + sequence_length - 1])  # pencerenin sonundaki RUL\n",
    "\n",
    "X = np.array(X)\n",
    "y = np.array(y)\n",
    "\n",
    "print(f\"X shape: {X.shape}, y shape: {y.shape}\")"
   ]
  },
  {
   "cell_type": "code",
   "execution_count": 7,
   "id": "1dd5121a-334a-4094-935e-3cebe3231a59",
   "metadata": {},
   "outputs": [
    {
     "name": "stdout",
     "output_type": "stream",
     "text": [
      "Train shape: (14184, 30, 13), Validation shape: (3547, 30, 13)\n"
     ]
    }
   ],
   "source": [
    "\n",
    "\n",
    "# Train-validation split\n",
    "X_train, X_val, y_train, y_val = train_test_split(X, y, test_size=0.2, random_state=42)\n",
    "\n",
    "print(f\"Train shape: {X_train.shape}, Validation shape: {X_val.shape}\")\n"
   ]
  },
  {
   "cell_type": "code",
   "execution_count": 8,
   "id": "90c2d26a-ceb2-4964-b1e2-3f06f4bd73d8",
   "metadata": {},
   "outputs": [
    {
     "name": "stderr",
     "output_type": "stream",
     "text": [
      "2025-05-28 09:46:34.141204: E external/local_xla/xla/stream_executor/cuda/cuda_platform.cc:51] failed call to cuInit: INTERNAL: CUDA error: Failed call to cuInit: CUDA_ERROR_NO_DEVICE: no CUDA-capable device is detected\n",
      "2025-05-28 09:46:34.141235: I external/local_xla/xla/stream_executor/cuda/cuda_diagnostics.cc:167] env: CUDA_VISIBLE_DEVICES=\"-1\"\n",
      "2025-05-28 09:46:34.141242: I external/local_xla/xla/stream_executor/cuda/cuda_diagnostics.cc:170] CUDA_VISIBLE_DEVICES is set to -1 - this hides all GPUs from CUDA\n",
      "2025-05-28 09:46:34.141247: I external/local_xla/xla/stream_executor/cuda/cuda_diagnostics.cc:178] verbose logging is disabled. Rerun with verbose logging (usually --v=1 or --vmodule=cuda_diagnostics=1) to get more diagnostic output from this module\n",
      "2025-05-28 09:46:34.141251: I external/local_xla/xla/stream_executor/cuda/cuda_diagnostics.cc:183] retrieving CUDA diagnostic information for host: kerdogan-ABRA-A5-V15-5\n",
      "2025-05-28 09:46:34.141254: I external/local_xla/xla/stream_executor/cuda/cuda_diagnostics.cc:190] hostname: kerdogan-ABRA-A5-V15-5\n",
      "2025-05-28 09:46:34.141386: I external/local_xla/xla/stream_executor/cuda/cuda_diagnostics.cc:197] libcuda reported version is: 550.120.0\n",
      "2025-05-28 09:46:34.141410: I external/local_xla/xla/stream_executor/cuda/cuda_diagnostics.cc:201] kernel reported version is: 550.120.0\n",
      "2025-05-28 09:46:34.141413: I external/local_xla/xla/stream_executor/cuda/cuda_diagnostics.cc:291] kernel version seems to match DSO: 550.120.0\n"
     ]
    },
    {
     "data": {
      "text/html": [
       "<pre style=\"white-space:pre;overflow-x:auto;line-height:normal;font-family:Menlo,'DejaVu Sans Mono',consolas,'Courier New',monospace\"><span style=\"font-weight: bold\">Model: \"sequential\"</span>\n",
       "</pre>\n"
      ],
      "text/plain": [
       "\u001b[1mModel: \"sequential\"\u001b[0m\n"
      ]
     },
     "metadata": {},
     "output_type": "display_data"
    },
    {
     "data": {
      "text/html": [
       "<pre style=\"white-space:pre;overflow-x:auto;line-height:normal;font-family:Menlo,'DejaVu Sans Mono',consolas,'Courier New',monospace\">┏━━━━━━━━━━━━━━━━━━━━━━━━━━━━━━━━━┳━━━━━━━━━━━━━━━━━━━━━━━━┳━━━━━━━━━━━━━━━┓\n",
       "┃<span style=\"font-weight: bold\"> Layer (type)                    </span>┃<span style=\"font-weight: bold\"> Output Shape           </span>┃<span style=\"font-weight: bold\">       Param # </span>┃\n",
       "┡━━━━━━━━━━━━━━━━━━━━━━━━━━━━━━━━━╇━━━━━━━━━━━━━━━━━━━━━━━━╇━━━━━━━━━━━━━━━┩\n",
       "│ lstm (<span style=\"color: #0087ff; text-decoration-color: #0087ff\">LSTM</span>)                     │ (<span style=\"color: #00d7ff; text-decoration-color: #00d7ff\">None</span>, <span style=\"color: #00af00; text-decoration-color: #00af00\">30</span>, <span style=\"color: #00af00; text-decoration-color: #00af00\">64</span>)         │        <span style=\"color: #00af00; text-decoration-color: #00af00\">19,968</span> │\n",
       "├─────────────────────────────────┼────────────────────────┼───────────────┤\n",
       "│ dropout (<span style=\"color: #0087ff; text-decoration-color: #0087ff\">Dropout</span>)               │ (<span style=\"color: #00d7ff; text-decoration-color: #00d7ff\">None</span>, <span style=\"color: #00af00; text-decoration-color: #00af00\">30</span>, <span style=\"color: #00af00; text-decoration-color: #00af00\">64</span>)         │             <span style=\"color: #00af00; text-decoration-color: #00af00\">0</span> │\n",
       "├─────────────────────────────────┼────────────────────────┼───────────────┤\n",
       "│ lstm_1 (<span style=\"color: #0087ff; text-decoration-color: #0087ff\">LSTM</span>)                   │ (<span style=\"color: #00d7ff; text-decoration-color: #00d7ff\">None</span>, <span style=\"color: #00af00; text-decoration-color: #00af00\">32</span>)             │        <span style=\"color: #00af00; text-decoration-color: #00af00\">12,416</span> │\n",
       "├─────────────────────────────────┼────────────────────────┼───────────────┤\n",
       "│ dense (<span style=\"color: #0087ff; text-decoration-color: #0087ff\">Dense</span>)                   │ (<span style=\"color: #00d7ff; text-decoration-color: #00d7ff\">None</span>, <span style=\"color: #00af00; text-decoration-color: #00af00\">1</span>)              │            <span style=\"color: #00af00; text-decoration-color: #00af00\">33</span> │\n",
       "└─────────────────────────────────┴────────────────────────┴───────────────┘\n",
       "</pre>\n"
      ],
      "text/plain": [
       "┏━━━━━━━━━━━━━━━━━━━━━━━━━━━━━━━━━┳━━━━━━━━━━━━━━━━━━━━━━━━┳━━━━━━━━━━━━━━━┓\n",
       "┃\u001b[1m \u001b[0m\u001b[1mLayer (type)                   \u001b[0m\u001b[1m \u001b[0m┃\u001b[1m \u001b[0m\u001b[1mOutput Shape          \u001b[0m\u001b[1m \u001b[0m┃\u001b[1m \u001b[0m\u001b[1m      Param #\u001b[0m\u001b[1m \u001b[0m┃\n",
       "┡━━━━━━━━━━━━━━━━━━━━━━━━━━━━━━━━━╇━━━━━━━━━━━━━━━━━━━━━━━━╇━━━━━━━━━━━━━━━┩\n",
       "│ lstm (\u001b[38;5;33mLSTM\u001b[0m)                     │ (\u001b[38;5;45mNone\u001b[0m, \u001b[38;5;34m30\u001b[0m, \u001b[38;5;34m64\u001b[0m)         │        \u001b[38;5;34m19,968\u001b[0m │\n",
       "├─────────────────────────────────┼────────────────────────┼───────────────┤\n",
       "│ dropout (\u001b[38;5;33mDropout\u001b[0m)               │ (\u001b[38;5;45mNone\u001b[0m, \u001b[38;5;34m30\u001b[0m, \u001b[38;5;34m64\u001b[0m)         │             \u001b[38;5;34m0\u001b[0m │\n",
       "├─────────────────────────────────┼────────────────────────┼───────────────┤\n",
       "│ lstm_1 (\u001b[38;5;33mLSTM\u001b[0m)                   │ (\u001b[38;5;45mNone\u001b[0m, \u001b[38;5;34m32\u001b[0m)             │        \u001b[38;5;34m12,416\u001b[0m │\n",
       "├─────────────────────────────────┼────────────────────────┼───────────────┤\n",
       "│ dense (\u001b[38;5;33mDense\u001b[0m)                   │ (\u001b[38;5;45mNone\u001b[0m, \u001b[38;5;34m1\u001b[0m)              │            \u001b[38;5;34m33\u001b[0m │\n",
       "└─────────────────────────────────┴────────────────────────┴───────────────┘\n"
      ]
     },
     "metadata": {},
     "output_type": "display_data"
    },
    {
     "data": {
      "text/html": [
       "<pre style=\"white-space:pre;overflow-x:auto;line-height:normal;font-family:Menlo,'DejaVu Sans Mono',consolas,'Courier New',monospace\"><span style=\"font-weight: bold\"> Total params: </span><span style=\"color: #00af00; text-decoration-color: #00af00\">32,417</span> (126.63 KB)\n",
       "</pre>\n"
      ],
      "text/plain": [
       "\u001b[1m Total params: \u001b[0m\u001b[38;5;34m32,417\u001b[0m (126.63 KB)\n"
      ]
     },
     "metadata": {},
     "output_type": "display_data"
    },
    {
     "data": {
      "text/html": [
       "<pre style=\"white-space:pre;overflow-x:auto;line-height:normal;font-family:Menlo,'DejaVu Sans Mono',consolas,'Courier New',monospace\"><span style=\"font-weight: bold\"> Trainable params: </span><span style=\"color: #00af00; text-decoration-color: #00af00\">32,417</span> (126.63 KB)\n",
       "</pre>\n"
      ],
      "text/plain": [
       "\u001b[1m Trainable params: \u001b[0m\u001b[38;5;34m32,417\u001b[0m (126.63 KB)\n"
      ]
     },
     "metadata": {},
     "output_type": "display_data"
    },
    {
     "data": {
      "text/html": [
       "<pre style=\"white-space:pre;overflow-x:auto;line-height:normal;font-family:Menlo,'DejaVu Sans Mono',consolas,'Courier New',monospace\"><span style=\"font-weight: bold\"> Non-trainable params: </span><span style=\"color: #00af00; text-decoration-color: #00af00\">0</span> (0.00 B)\n",
       "</pre>\n"
      ],
      "text/plain": [
       "\u001b[1m Non-trainable params: \u001b[0m\u001b[38;5;34m0\u001b[0m (0.00 B)\n"
      ]
     },
     "metadata": {},
     "output_type": "display_data"
    }
   ],
   "source": [
    "# LSTM model definition\n",
    "model = tf.keras.Sequential([\n",
    "    tf.keras.layers.Input(shape=(X_train.shape[1], X_train.shape[2])),\n",
    "    tf.keras.layers.LSTM(64, return_sequences=True),\n",
    "    tf.keras.layers.Dropout(0.3),\n",
    "    tf.keras.layers.LSTM(32),\n",
    "    tf.keras.layers.Dense(1)  # Regression output\n",
    "])\n",
    "\n",
    "# Compile\n",
    "model.compile(optimizer='adam', loss='mae', metrics=['mae'])\n",
    "\n",
    "model.summary()\n"
   ]
  },
  {
   "cell_type": "code",
   "execution_count": 9,
   "id": "9751d94e-b01e-42b7-aa42-861157debef9",
   "metadata": {},
   "outputs": [
    {
     "name": "stdout",
     "output_type": "stream",
     "text": [
      "Epoch 1/50\n",
      "\u001b[1m222/222\u001b[0m \u001b[32m━━━━━━━━━━━━━━━━━━━━\u001b[0m\u001b[37m\u001b[0m \u001b[1m6s\u001b[0m 17ms/step - loss: 88.2131 - mae: 88.2131 - val_loss: 80.7524 - val_mae: 80.7524\n",
      "Epoch 2/50\n",
      "\u001b[1m222/222\u001b[0m \u001b[32m━━━━━━━━━━━━━━━━━━━━\u001b[0m\u001b[37m\u001b[0m \u001b[1m3s\u001b[0m 15ms/step - loss: 79.8532 - mae: 79.8532 - val_loss: 75.2290 - val_mae: 75.2290\n",
      "Epoch 3/50\n",
      "\u001b[1m222/222\u001b[0m \u001b[32m━━━━━━━━━━━━━━━━━━━━\u001b[0m\u001b[37m\u001b[0m \u001b[1m4s\u001b[0m 16ms/step - loss: 75.8972 - mae: 75.8972 - val_loss: 70.5500 - val_mae: 70.5500\n",
      "Epoch 4/50\n",
      "\u001b[1m222/222\u001b[0m \u001b[32m━━━━━━━━━━━━━━━━━━━━\u001b[0m\u001b[37m\u001b[0m \u001b[1m3s\u001b[0m 15ms/step - loss: 69.6363 - mae: 69.6363 - val_loss: 66.5288 - val_mae: 66.5288\n",
      "Epoch 5/50\n",
      "\u001b[1m222/222\u001b[0m \u001b[32m━━━━━━━━━━━━━━━━━━━━\u001b[0m\u001b[37m\u001b[0m \u001b[1m3s\u001b[0m 15ms/step - loss: 66.5171 - mae: 66.5171 - val_loss: 63.1536 - val_mae: 63.1536\n",
      "Epoch 6/50\n",
      "\u001b[1m222/222\u001b[0m \u001b[32m━━━━━━━━━━━━━━━━━━━━\u001b[0m\u001b[37m\u001b[0m \u001b[1m3s\u001b[0m 15ms/step - loss: 63.0826 - mae: 63.0826 - val_loss: 60.3103 - val_mae: 60.3103\n",
      "Epoch 7/50\n",
      "\u001b[1m222/222\u001b[0m \u001b[32m━━━━━━━━━━━━━━━━━━━━\u001b[0m\u001b[37m\u001b[0m \u001b[1m3s\u001b[0m 15ms/step - loss: 60.8057 - mae: 60.8057 - val_loss: 57.9459 - val_mae: 57.9459\n",
      "Epoch 8/50\n",
      "\u001b[1m222/222\u001b[0m \u001b[32m━━━━━━━━━━━━━━━━━━━━\u001b[0m\u001b[37m\u001b[0m \u001b[1m3s\u001b[0m 15ms/step - loss: 58.5535 - mae: 58.5535 - val_loss: 56.0203 - val_mae: 56.0203\n",
      "Epoch 9/50\n",
      "\u001b[1m222/222\u001b[0m \u001b[32m━━━━━━━━━━━━━━━━━━━━\u001b[0m\u001b[37m\u001b[0m \u001b[1m4s\u001b[0m 16ms/step - loss: 55.6886 - mae: 55.6886 - val_loss: 54.4833 - val_mae: 54.4833\n",
      "Epoch 10/50\n",
      "\u001b[1m222/222\u001b[0m \u001b[32m━━━━━━━━━━━━━━━━━━━━\u001b[0m\u001b[37m\u001b[0m \u001b[1m4s\u001b[0m 16ms/step - loss: 54.7771 - mae: 54.7771 - val_loss: 53.2546 - val_mae: 53.2546\n",
      "Epoch 11/50\n",
      "\u001b[1m222/222\u001b[0m \u001b[32m━━━━━━━━━━━━━━━━━━━━\u001b[0m\u001b[37m\u001b[0m \u001b[1m4s\u001b[0m 16ms/step - loss: 53.6067 - mae: 53.6067 - val_loss: 52.3048 - val_mae: 52.3048\n",
      "Epoch 12/50\n",
      "\u001b[1m222/222\u001b[0m \u001b[32m━━━━━━━━━━━━━━━━━━━━\u001b[0m\u001b[37m\u001b[0m \u001b[1m3s\u001b[0m 16ms/step - loss: 52.8908 - mae: 52.8908 - val_loss: 51.5918 - val_mae: 51.5918\n",
      "Epoch 13/50\n",
      "\u001b[1m222/222\u001b[0m \u001b[32m━━━━━━━━━━━━━━━━━━━━\u001b[0m\u001b[37m\u001b[0m \u001b[1m4s\u001b[0m 16ms/step - loss: 52.1041 - mae: 52.1041 - val_loss: 51.0672 - val_mae: 51.0672\n",
      "Epoch 14/50\n",
      "\u001b[1m222/222\u001b[0m \u001b[32m━━━━━━━━━━━━━━━━━━━━\u001b[0m\u001b[37m\u001b[0m \u001b[1m3s\u001b[0m 16ms/step - loss: 51.9526 - mae: 51.9526 - val_loss: 50.7015 - val_mae: 50.7015\n",
      "Epoch 15/50\n",
      "\u001b[1m222/222\u001b[0m \u001b[32m━━━━━━━━━━━━━━━━━━━━\u001b[0m\u001b[37m\u001b[0m \u001b[1m4s\u001b[0m 16ms/step - loss: 50.6941 - mae: 50.6941 - val_loss: 50.4692 - val_mae: 50.4692\n",
      "Epoch 16/50\n",
      "\u001b[1m222/222\u001b[0m \u001b[32m━━━━━━━━━━━━━━━━━━━━\u001b[0m\u001b[37m\u001b[0m \u001b[1m4s\u001b[0m 16ms/step - loss: 50.3721 - mae: 50.3721 - val_loss: 50.3261 - val_mae: 50.3261\n",
      "Epoch 17/50\n",
      "\u001b[1m222/222\u001b[0m \u001b[32m━━━━━━━━━━━━━━━━━━━━\u001b[0m\u001b[37m\u001b[0m \u001b[1m4s\u001b[0m 16ms/step - loss: 50.4681 - mae: 50.4681 - val_loss: 50.2405 - val_mae: 50.2405\n",
      "Epoch 18/50\n",
      "\u001b[1m222/222\u001b[0m \u001b[32m━━━━━━━━━━━━━━━━━━━━\u001b[0m\u001b[37m\u001b[0m \u001b[1m4s\u001b[0m 16ms/step - loss: 50.6937 - mae: 50.6937 - val_loss: 50.1997 - val_mae: 50.1997\n",
      "Epoch 19/50\n",
      "\u001b[1m222/222\u001b[0m \u001b[32m━━━━━━━━━━━━━━━━━━━━\u001b[0m\u001b[37m\u001b[0m \u001b[1m4s\u001b[0m 16ms/step - loss: 50.0288 - mae: 50.0288 - val_loss: 50.1834 - val_mae: 50.1834\n",
      "Epoch 20/50\n",
      "\u001b[1m222/222\u001b[0m \u001b[32m━━━━━━━━━━━━━━━━━━━━\u001b[0m\u001b[37m\u001b[0m \u001b[1m4s\u001b[0m 16ms/step - loss: 50.2487 - mae: 50.2487 - val_loss: 50.1816 - val_mae: 50.1816\n",
      "Epoch 21/50\n",
      "\u001b[1m222/222\u001b[0m \u001b[32m━━━━━━━━━━━━━━━━━━━━\u001b[0m\u001b[37m\u001b[0m \u001b[1m3s\u001b[0m 16ms/step - loss: 50.4959 - mae: 50.4959 - val_loss: 50.1861 - val_mae: 50.1861\n",
      "Epoch 22/50\n",
      "\u001b[1m222/222\u001b[0m \u001b[32m━━━━━━━━━━━━━━━━━━━━\u001b[0m\u001b[37m\u001b[0m \u001b[1m4s\u001b[0m 16ms/step - loss: 49.6042 - mae: 49.6042 - val_loss: 50.1934 - val_mae: 50.1934\n",
      "Epoch 23/50\n",
      "\u001b[1m222/222\u001b[0m \u001b[32m━━━━━━━━━━━━━━━━━━━━\u001b[0m\u001b[37m\u001b[0m \u001b[1m4s\u001b[0m 17ms/step - loss: 50.4959 - mae: 50.4959 - val_loss: 50.1982 - val_mae: 50.1982\n",
      "Epoch 24/50\n",
      "\u001b[1m222/222\u001b[0m \u001b[32m━━━━━━━━━━━━━━━━━━━━\u001b[0m\u001b[37m\u001b[0m \u001b[1m4s\u001b[0m 17ms/step - loss: 50.4905 - mae: 50.4905 - val_loss: 50.2044 - val_mae: 50.2044\n",
      "Epoch 25/50\n",
      "\u001b[1m222/222\u001b[0m \u001b[32m━━━━━━━━━━━━━━━━━━━━\u001b[0m\u001b[37m\u001b[0m \u001b[1m4s\u001b[0m 17ms/step - loss: 50.1636 - mae: 50.1636 - val_loss: 50.2038 - val_mae: 50.2038\n"
     ]
    }
   ],
   "source": [
    "# Callbacks \n",
    "early_stop = tf.keras.callbacks.EarlyStopping(monitor='val_loss', patience=5, restore_best_weights=True)\n",
    "\n",
    "# TRAIN\n",
    "history = model.fit(\n",
    "    X_train, y_train,\n",
    "    validation_data=(X_val, y_val),\n",
    "    epochs=50,\n",
    "    batch_size=64,\n",
    "    callbacks=[early_stop],\n",
    "    verbose=1\n",
    ")\n"
   ]
  },
  {
   "cell_type": "code",
   "execution_count": 10,
   "id": "054bb598-0974-4fda-a388-d0b1b41dccbe",
   "metadata": {},
   "outputs": [
    {
     "data": {
      "image/png": "[encoded data removed]",
      "text/plain": [
       "<Figure size 800x400 with 1 Axes>"
      ]
     },
     "metadata": {},
     "output_type": "display_data"
    }
   ],
   "source": [
    "# Loss grafiklerini çiz\n",
    "plt.figure(figsize=(8, 4))\n",
    "plt.plot(history.history['loss'], label='Train Loss')\n",
    "plt.plot(history.history['val_loss'], label='Val Loss')\n",
    "plt.xlabel('Epoch')\n",
    "plt.ylabel('MAE Loss')\n",
    "plt.title('Training vs Validation Loss')\n",
    "plt.legend()\n",
    "plt.grid(True)\n",
    "plt.show()\n"
   ]
  },
  {
   "cell_type": "code",
   "execution_count": 14,
   "id": "a550f327-ddfb-4745-9982-e1b4220b9804",
   "metadata": {},
   "outputs": [],
   "source": [
    "#Attack \n",
    "#Step 1: Load and Preprocess test_FD001.txt\n",
    "test_path = os.path.join(\"CMaps\", \"test_FD001.txt\")\n",
    "\n",
    "test_df = pd.read_csv(test_path, sep=r\"\\s+\", header=None)\n",
    "test_df = test_df.loc[:, test_df.columns.difference([26, 27])]      # drop empty columns if they exist\n",
    "test_df.columns = ['unit', 'time'] + [f'op{i}' for i in range(1, 4)] + [f'sensor{i}' for i in range(1, 22)]\n",
    "\n",
    "# RUL not given in test file; optionally create dummy values or skip\n",
    "# Apply the same scaling used on training\n",
    "test_df[sensor_cols] = scaler.transform(test_df[sensor_cols])"
   ]
  },
  {
   "cell_type": "code",
   "execution_count": 15,
   "id": "0ed6ff72-53a6-4a2d-8106-5ced3214186f",
   "metadata": {},
   "outputs": [],
   "source": [
    "#Step 2: Convert Test Data to LSTM Input Format\n",
    "sequence_length = 30\n",
    "X_test = []\n",
    "\n",
    "for unit in test_df['unit'].unique():\n",
    "    unit_df = test_df[test_df['unit'] == unit]\n",
    "    unit_data = unit_df[sensor_cols].values\n",
    "    for i in range(len(unit_data) - sequence_length + 1):\n",
    "        X_test.append(unit_data[i:i+sequence_length])\n",
    "\n",
    "X_test = np.array(X_test)"
   ]
  },
  {
   "cell_type": "code",
   "execution_count": 18,
   "id": "bc5354b0-57cf-42a5-b31d-4fc1da5a18db",
   "metadata": {},
   "outputs": [],
   "source": [
    "#Step 3: FGSM Attack Function (White-box)\n",
    "def fgsm_attack(model, X, epsilon):\n",
    "    X_adv = tf.convert_to_tensor(X, dtype=tf.float32)\n",
    "    with tf.GradientTape() as tape:\n",
    "        tape.watch(X_adv)\n",
    "        prediction = model(X_adv)\n",
    "        loss = tf.reduce_mean(tf.abs(prediction))\n",
    "\n",
    "    gradient = tape.gradient(loss, X_adv)\n",
    "    signed_grad = tf.sign(gradient)\n",
    "    X_perturbed = X_adv + epsilon * signed_grad\n",
    "    return X_perturbed.numpy()"
   ]
  },
  {
   "cell_type": "code",
   "execution_count": 19,
   "id": "d4f8710f-a622-411c-b2d6-35cfd4be7e9c",
   "metadata": {},
   "outputs": [
    {
     "name": "stdout",
     "output_type": "stream",
     "text": [
      "\u001b[1m4/4\u001b[0m \u001b[32m━━━━━━━━━━━━━━━━━━━━\u001b[0m\u001b[37m\u001b[0m \u001b[1m1s\u001b[0m 69ms/step\n",
      "\u001b[1m4/4\u001b[0m \u001b[32m━━━━━━━━━━━━━━━━━━━━\u001b[0m\u001b[37m\u001b[0m \u001b[1m0s\u001b[0m 8ms/step \n"
     ]
    }
   ],
   "source": [
    "#Step 4: Apply FGSM to a Subset of Test Data\n",
    "epsilon = 0.05\n",
    "X_adv = fgsm_attack(model, X_test[:100], epsilon)  # test only on first 100 for speed\n",
    "\n",
    "# Predict and compare\n",
    "y_pred_orig = model.predict(X_test[:100])\n",
    "y_pred_adv = model.predict(X_adv)"
   ]
  },
  {
   "cell_type": "code",
   "execution_count": 20,
   "id": "aeb28d5f-c477-45cf-939a-f62afd2a62b7",
   "metadata": {},
   "outputs": [
    {
     "data": {
      "image/png": "[encoded data removed]",
      "text/plain": [
       "<Figure size 1000x500 with 1 Axes>"
      ]
     },
     "metadata": {},
     "output_type": "display_data"
    }
   ],
   "source": [
    "#Step 5: Visualize Perturbation Impact\n",
    "plt.figure(figsize=(10, 5))\n",
    "plt.plot(y_pred_orig, label='Original Prediction')\n",
    "plt.plot(y_pred_adv, label='Adversarial Prediction', linestyle='--')\n",
    "plt.title(\"RUL Prediction Before and After FGSM Attack\")\n",
    "plt.xlabel(\"Sample Index\")\n",
    "plt.ylabel(\"Predicted RUL\")\n",
    "plt.legend()\n",
    "plt.grid(True)\n",
    "plt.show()"
   ]
  },
  {
   "cell_type": "code",
   "execution_count": 21,
   "id": "1adfdc96-acda-4750-98d7-104df31449a8",
   "metadata": {},
   "outputs": [
    {
     "name": "stdout",
     "output_type": "stream",
     "text": [
      "Avg L2 perturbation: 0.9874210710907658\n"
     ]
    }
   ],
   "source": [
    "#Step 6: Measure Perturbation Strength (Lp Norm)\n",
    "from numpy.linalg import norm\n",
    "\n",
    "l2_norms = [norm((x_adv - x_orig).flatten(), ord=2) for x_adv, x_orig in zip(X_adv, X_test[:100])]\n",
    "print(\"Avg L2 perturbation:\", np.mean(l2_norms))"
   ]
  }
 ],
 "metadata": {
  "kernelspec": {
   "display_name": "dirtyEnv",
   "language": "python",
   "name": "python3"
  },
  "language_info": {
   "codemirror_mode": {
    "name": "ipython",
    "version": 3
   },
   "file_extension": ".py",
   "mimetype": "text/x-python",
   "name": "python",
   "nbconvert_exporter": "python",
   "pygments_lexer": "ipython3",
   "version": "3.12.3"
  }
 },
 "nbformat": 4,
 "nbformat_minor": 5
}
